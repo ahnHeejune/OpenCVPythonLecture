{
 "cells": [
  {
   "cell_type": "code",
   "execution_count": 1,
   "id": "606ea7a8",
   "metadata": {},
   "outputs": [],
   "source": [
    "import numpy as np\n",
    "import cv2\n",
    "from matplotlib import pyplot as plt\n",
    "import math"
   ]
  },
  {
   "cell_type": "code",
   "execution_count": 2,
   "id": "aaa55446",
   "metadata": {},
   "outputs": [],
   "source": [
    "np.set_printoptions(precision=2) "
   ]
  },
  {
   "cell_type": "code",
   "execution_count": 30,
   "id": "4cf19d31",
   "metadata": {},
   "outputs": [],
   "source": [
    "def compute_hu_moments(image):\n",
    "\n",
    "    # binarization \n",
    "    ret, thresh = cv2.threshold(image,150,255,  cv2.THRESH_OTSU )\n",
    "    # contours  \n",
    "    contours, _ = cv2.findContours(thresh, cv2.RETR_EXTERNAL,cv2.CHAIN_APPROX_NONE)\n",
    "    moments = cv2.moments(contours[0]) #, True)\n",
    "    hu_moment = cv2.HuMoments(moments) \n",
    "        \n",
    "    # from https://learnopencv.com/shape-matching-using-hu-moments-c-python/\n",
    "    '''for i in range(0,7):\n",
    "        hu_moment[i] = -1* math.copysign(1.0, hu_moment[i]) * math.log10(abs(hu_moment[i]))\n",
    "    '''\n",
    "    return hu_moment\n"
   ]
  },
  {
   "cell_type": "code",
   "execution_count": 3,
   "id": "dac127f5",
   "metadata": {},
   "outputs": [],
   "source": [
    "file = \"./mnist_png/training/%1d.png\"%(0)\n",
    "# loading images \n",
    "img = cv2.imread(file, cv2.IMREAD_GRAYSCALE)"
   ]
  },
  {
   "cell_type": "code",
   "execution_count": 4,
   "id": "5d09c941",
   "metadata": {},
   "outputs": [
    {
     "data": {
      "text/plain": [
       "<matplotlib.image.AxesImage at 0x2ba514604c0>"
      ]
     },
     "execution_count": 4,
     "metadata": {},
     "output_type": "execute_result"
    },
    {
     "data": {
      "image/png": "[encoded data removed]",
      "text/plain": [
       "<Figure size 640x480 with 1 Axes>"
      ]
     },
     "metadata": {},
     "output_type": "display_data"
    }
   ],
   "source": [
    "plt.imshow(img)"
   ]
  },
  {
   "cell_type": "code",
   "execution_count": 5,
   "id": "71680dde",
   "metadata": {},
   "outputs": [
    {
     "name": "stdout",
     "output_type": "stream",
     "text": [
      "{'m00': 31095.0, 'm10': 438364.0, 'm01': 421440.0, 'm20': 6889178.0, 'm11': 5588996.0, 'm02': 6726294.0, 'm30': 117073708.0, 'm21': 84116638.0, 'm12': 84791084.0, 'm03': 119263068.0, 'mu20': 709309.9666827469, 'mu11': -352284.72551857174, 'mu02': 1014389.3979739514, 'mu30': -46071.169057120926, 'mu21': 678230.1053046037, 'mu12': -484085.43466494133, 'mu03': 602901.4418947052, 'nu20': 0.0007335925968926764, 'nu11': -0.0003643448968402587, 'nu02': 0.0010491161659553347, 'nu30': -2.702108787015887e-07, 'nu21': 3.977870682834385e-06, 'nu12': -2.8391975577020135e-06, 'nu03': 3.536062394744964e-06}\n"
     ]
    }
   ],
   "source": [
    "moments = cv2.moments(img)\n",
    "print(moments)"
   ]
  },
  {
   "cell_type": "code",
   "execution_count": 8,
   "id": "af0f9500",
   "metadata": {},
   "outputs": [
    {
     "name": "stdout",
     "output_type": "stream",
     "text": [
      "<class 'numpy.ndarray'>\n",
      "[[1.78e-03 6.31e-07 1.39e-10 6.61e-11 2.36e-21 4.88e-14 5.87e-21]]\n"
     ]
    }
   ],
   "source": [
    "hu_moment = cv2.HuMoments(moments) \n",
    "print(type(hu_moment))\n",
    "print(hu_moment.T)"
   ]
  },
  {
   "cell_type": "code",
   "execution_count": 9,
   "id": "3eae1bde",
   "metadata": {},
   "outputs": [
    {
     "name": "stdout",
     "output_type": "stream",
     "text": [
      "{'m00': 176.0, 'm10': 2452.0, 'm01': 2385.0, 'm20': 38310.0, 'm11': 31317.0, 'm02': 37953.0, 'm30': 649372.0, 'm21': 469415.0, 'm12': 475111.0, 'm03': 669771.0, 'mu20': 4149.181818181816, 'mu11': -1910.3863636363603, 'mu02': 5633.539772727272, 'mu30': 32.752066115732305, 'mu21': 3501.2768595041052, 'mu12': -1867.4832128099224, 'mu03': 2782.9902505165664, 'nu20': 0.13394827667167536, 'nu11': -0.061673113495492, 'nu02': 0.18186789039021412, 'nu30': 7.969976346408718e-05, 'nu21': 0.008520101801782769, 'nu12': -0.004544384156045984, 'nu03': 0.006772203741445451}\n",
      "<class 'numpy.ndarray'>\n",
      "[[ 3.16e-01  1.75e-02  5.41e-04  2.54e-04 -8.28e-09  2.71e-05  9.37e-08]]\n"
     ]
    }
   ],
   "source": [
    "moments = cv2.moments(img, True)\n",
    "print(moments)\n",
    "hu_moment = cv2.HuMoments(moments) \n",
    "print(type(hu_moment))\n",
    "print(hu_moment.T)"
   ]
  },
  {
   "cell_type": "code",
   "execution_count": 12,
   "id": "726dc87f",
   "metadata": {},
   "outputs": [
    {
     "name": "stdout",
     "output_type": "stream",
     "text": [
      "[[ 1.82e-01  6.80e-03  1.44e-04  4.64e-06 -8.75e-12 -5.21e-08 -1.20e-10]]\n"
     ]
    }
   ],
   "source": [
    "# binarization \n",
    "ret, thresh = cv2.threshold(img,150,255,  cv2.THRESH_OTSU)\n",
    "# contours  \n",
    "contours, _ = cv2.findContours(thresh, cv2.RETR_EXTERNAL,cv2.CHAIN_APPROX_NONE)\n",
    "moments = cv2.moments(contours[0]) \n",
    "hu_moment = cv2.HuMoments(moments) \n",
    "print(hu_moment.T)"
   ]
  },
  {
   "cell_type": "code",
   "execution_count": 31,
   "id": "8c4c70fa",
   "metadata": {},
   "outputs": [
    {
     "name": "stdout",
     "output_type": "stream",
     "text": [
      "[[ 1.82e-01  6.80e-03  1.44e-04  4.64e-06 -8.75e-12 -5.21e-08 -1.20e-10]]\n"
     ]
    }
   ],
   "source": [
    "hu = compute_hu_moments(img)\n",
    "print(hu.T)"
   ]
  },
  {
   "cell_type": "code",
   "execution_count": 32,
   "id": "4f479d90",
   "metadata": {},
   "outputs": [
    {
     "name": "stdout",
     "output_type": "stream",
     "text": [
      "(28, 28)\n"
     ]
    }
   ],
   "source": [
    "rows, cols = img.shape\n",
    "print(img.shape)"
   ]
  },
  {
   "cell_type": "code",
   "execution_count": 33,
   "id": "1e3ff7ee",
   "metadata": {},
   "outputs": [],
   "source": [
    "M = cv2.getRotationMatrix2D( (rows/2, cols/2),  45, 1.0 )  # center, rotation, scale \n",
    "img_rot = cv2.warpAffine( img, M, (rows, cols))"
   ]
  },
  {
   "cell_type": "code",
   "execution_count": 34,
   "id": "db98437e",
   "metadata": {},
   "outputs": [
    {
     "data": {
      "text/plain": [
       "<matplotlib.image.AxesImage at 0x2ba51607430>"
      ]
     },
     "execution_count": 34,
     "metadata": {},
     "output_type": "execute_result"
    },
    {
     "data": {
      "image/png": "[encoded data removed]",
      "text/plain": [
       "<Figure size 640x480 with 1 Axes>"
      ]
     },
     "metadata": {},
     "output_type": "display_data"
    }
   ],
   "source": [
    "plt.imshow(img_rot)"
   ]
  },
  {
   "cell_type": "code",
   "execution_count": 37,
   "id": "cd330f65",
   "metadata": {},
   "outputs": [
    {
     "name": "stdout",
     "output_type": "stream",
     "text": [
      "[[ 1.83e-01  7.69e-03  1.01e-04  3.79e-06  1.26e-11  1.74e-08 -7.32e-11]]\n"
     ]
    }
   ],
   "source": [
    "hu2 = compute_hu_moments(img_rot)\n",
    "print(hu2.T)"
   ]
  },
  {
   "cell_type": "code",
   "execution_count": 38,
   "id": "15122c7b",
   "metadata": {},
   "outputs": [
    {
     "name": "stdout",
     "output_type": "stream",
     "text": [
      "[[ 1.82e-01  6.80e-03  1.44e-04  4.64e-06 -8.75e-12 -5.21e-08 -1.20e-10]]\n"
     ]
    }
   ],
   "source": [
    "print(hu.T)"
   ]
  },
  {
   "cell_type": "code",
   "execution_count": 39,
   "id": "fbb8d7fd",
   "metadata": {},
   "outputs": [],
   "source": [
    "M = cv2.getRotationMatrix2D( (rows/2, cols/2),  0, 1.0 )  # center, rotation, scale  \n",
    "M[0,2] = 3  \n",
    "M[1,2] = 3  "
   ]
  },
  {
   "cell_type": "code",
   "execution_count": 40,
   "id": "f9e55385",
   "metadata": {},
   "outputs": [
    {
     "name": "stdout",
     "output_type": "stream",
     "text": [
      "[[ 1.  0.  3.]\n",
      " [-0.  1.  3.]]\n"
     ]
    }
   ],
   "source": [
    "print(M)"
   ]
  },
  {
   "cell_type": "code",
   "execution_count": 41,
   "id": "91e0f2e0",
   "metadata": {},
   "outputs": [],
   "source": [
    "img_trans = cv2.warpAffine( img, M, (rows, cols))"
   ]
  },
  {
   "cell_type": "code",
   "execution_count": 42,
   "id": "4442f366",
   "metadata": {},
   "outputs": [
    {
     "data": {
      "text/plain": [
       "<matplotlib.image.AxesImage at 0x2ba5538c4c0>"
      ]
     },
     "execution_count": 42,
     "metadata": {},
     "output_type": "execute_result"
    },
    {
     "data": {
      "image/png": "[encoded data removed]",
      "text/plain": [
       "<Figure size 640x480 with 1 Axes>"
      ]
     },
     "metadata": {},
     "output_type": "display_data"
    }
   ],
   "source": [
    "plt.imshow(img_trans)"
   ]
  },
  {
   "cell_type": "code",
   "execution_count": 43,
   "id": "e1e0b4d8",
   "metadata": {},
   "outputs": [
    {
     "name": "stdout",
     "output_type": "stream",
     "text": [
      "[[ 1.82e-01  6.80e-03  1.44e-04  4.64e-06 -8.75e-12 -5.21e-08 -1.20e-10]]\n"
     ]
    }
   ],
   "source": [
    "hu2 = compute_hu_moments(img_trans)\n",
    "print(hu2.T)\n"
   ]
  },
  {
   "cell_type": "code",
   "execution_count": 44,
   "id": "ab5ffae7",
   "metadata": {},
   "outputs": [
    {
     "name": "stdout",
     "output_type": "stream",
     "text": [
      "[[ 1.82e-01  6.80e-03  1.44e-04  4.64e-06 -8.75e-12 -5.21e-08 -1.20e-10]]\n"
     ]
    }
   ],
   "source": [
    "print(hu.T)"
   ]
  },
  {
   "cell_type": "code",
   "execution_count": 45,
   "id": "1bf45709",
   "metadata": {},
   "outputs": [
    {
     "name": "stdout",
     "output_type": "stream",
     "text": [
      "[[ 1.81e-01  5.79e-03  1.55e-04  2.10e-06 -3.13e-11 -1.07e-07 -2.14e-11]]\n"
     ]
    }
   ],
   "source": [
    "M = cv2.getRotationMatrix2D( (rows/2, cols/2),  0, 0.5 )  # center, rotation, scale  \n",
    "img_scale = cv2.warpAffine( img, M, (rows, cols))\n",
    "hu3 = compute_hu_moments(img_scale)\n",
    "print(hu3.T)"
   ]
  },
  {
   "cell_type": "code",
   "execution_count": 46,
   "id": "12501671",
   "metadata": {},
   "outputs": [
    {
     "data": {
      "text/plain": [
       "<matplotlib.image.AxesImage at 0x2ba553ed390>"
      ]
     },
     "execution_count": 46,
     "metadata": {},
     "output_type": "execute_result"
    },
    {
     "data": {
      "image/png": "[encoded data removed]",
      "text/plain": [
       "<Figure size 640x480 with 1 Axes>"
      ]
     },
     "metadata": {},
     "output_type": "display_data"
    }
   ],
   "source": [
    "plt.imshow(img_scale)"
   ]
  },
  {
   "cell_type": "code",
   "execution_count": null,
   "id": "e208c8dc",
   "metadata": {},
   "outputs": [],
   "source": []
  }
 ],
 "metadata": {
  "kernelspec": {
   "display_name": "Python 3 (ipykernel)",
   "language": "python",
   "name": "python3"
  },
  "language_info": {
   "codemirror_mode": {
    "name": "ipython",
    "version": 3
   },
   "file_extension": ".py",
   "mimetype": "text/x-python",
   "name": "python",
   "nbconvert_exporter": "python",
   "pygments_lexer": "ipython3",
   "version": "3.10.9"
  }
 },
 "nbformat": 4,
 "nbformat_minor": 5
}
