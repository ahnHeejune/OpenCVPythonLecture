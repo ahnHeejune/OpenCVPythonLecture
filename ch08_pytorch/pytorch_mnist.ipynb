{
 "cells": [
  {
   "cell_type": "markdown",
   "metadata": {
    "id": "RWLTl4oDGdnH"
   },
   "source": [
    "[![AnalyticsDojo](https://github.com/rpi-techfundamentals/fall2018-materials/blob/master/fig/final-logo.png?raw=1)](http://rpi.analyticsdojo.com)\n",
    "<center><h1>Pytorch with the MNIST Dataset - MINST</h1></center>\n",
    "<center><h3><a href = 'http://rpi.analyticsdojo.com'>rpi.analyticsdojo.com</a></h3></center>\n",
    "\n",
    "\n",
    "[![Open In Colab](https://colab.research.google.com/assets/colab-badge.svg)](https://colab.research.google.com/github/rpi-techfundamentals/fall2018-materials/blob/master/10-deep-learning/04-pytorch-mnist.ipynb)\n"
   ]
  },
  {
   "cell_type": "markdown",
   "metadata": {
    "id": "O1H5b4BpGdnO"
   },
   "source": [
    "\n",
    "From Kaggle:\n",
    "\"MNIST (\"Modified National Institute of Standards and Technology\") is the de facto “hello world” dataset of computer vision. Since its release in 1999, this classic dataset of handwritten images has served as the basis for benchmarking classification algorithms. As new machine learning techniques emerge, MNIST remains a reliable resource for researchers and learners alike.\"\n",
    "\n",
    "[Read more.](https://www.kaggle.com/c/digit-recognizer)\n",
    "\n",
    "\n",
    "<a title=\"By Josef Steppan [CC BY-SA 4.0 (https://creativecommons.org/licenses/by-sa/4.0)], from Wikimedia Commons\" href=\"https://commons.wikimedia.org/wiki/File:MnistExamples.png\"><img width=\"512\" alt=\"MnistExamples\" src=\"https://upload.wikimedia.org/wikipedia/commons/2/27/MnistExamples.png\"/></a>"
   ]
  },
  {
   "cell_type": "markdown",
   "metadata": {
    "id": "hpv4Fc4gGdnP"
   },
   "source": [
    "This code is adopted from the pytorch examples repository.\n",
    "It is licensed under BSD 3-Clause \"New\" or \"Revised\" License.\n",
    "Source: https://github.com/pytorch/examples/\n",
    "LICENSE: https://github.com/pytorch/examples/blob/master/LICENSE\n",
    "\n",
    "![](https://github.com/rpi-techfundamentals/fall2018-materials/blob/master/10-deep-learning/mnist-comparison.png?raw=1)\n",
    "Table from [Wikipedia](https://en.wikipedia.org/wiki/MNIST_database)"
   ]
  },
  {
   "cell_type": "code",
   "execution_count": 1,
   "metadata": {
    "colab": {
     "base_uri": "https://localhost:8080/"
    },
    "id": "Q4C11mYrGdnQ",
    "outputId": "e8aa079a-88e9-4788-bca5-f11bf8d5e7a1"
   },
   "outputs": [
    {
     "name": "stdout",
     "output_type": "stream",
     "text": [
      "Requirement already satisfied: torch in c:\\users\\user\\anaconda3\\envs\\imgproc\\lib\\site-packages (1.13.1)\n",
      "Requirement already satisfied: torchvision in c:\\users\\user\\anaconda3\\envs\\imgproc\\lib\\site-packages (0.14.1)\n",
      "Requirement already satisfied: typing-extensions in c:\\users\\user\\anaconda3\\envs\\imgproc\\lib\\site-packages (from torch) (4.5.0)\n",
      "Requirement already satisfied: pillow!=8.3.*,>=5.3.0 in c:\\users\\user\\anaconda3\\envs\\imgproc\\lib\\site-packages (from torchvision) (9.4.0)\n",
      "Requirement already satisfied: requests in c:\\users\\user\\anaconda3\\envs\\imgproc\\lib\\site-packages (from torchvision) (2.28.2)\n",
      "Requirement already satisfied: numpy in c:\\users\\user\\anaconda3\\envs\\imgproc\\lib\\site-packages (from torchvision) (1.24.2)\n",
      "Requirement already satisfied: certifi>=2017.4.17 in c:\\users\\user\\anaconda3\\envs\\imgproc\\lib\\site-packages (from requests->torchvision) (2022.12.7)\n",
      "Requirement already satisfied: idna<4,>=2.5 in c:\\users\\user\\anaconda3\\envs\\imgproc\\lib\\site-packages (from requests->torchvision) (3.4)\n",
      "Requirement already satisfied: charset-normalizer<4,>=2 in c:\\users\\user\\anaconda3\\envs\\imgproc\\lib\\site-packages (from requests->torchvision) (3.0.1)\n",
      "Requirement already satisfied: urllib3<1.27,>=1.21.1 in c:\\users\\user\\anaconda3\\envs\\imgproc\\lib\\site-packages (from requests->torchvision) (1.26.14)\n"
     ]
    }
   ],
   "source": [
    "!pip install torch torchvision"
   ]
  },
  {
   "cell_type": "markdown",
   "metadata": {
    "id": "yINI4vRSGdnT"
   },
   "source": [
    "### Pytorch Advantages vs Tensorflow\n",
    "- Pytorch Enables dynamic computational graphs (which change be changed) while Tensorflow is static.\n",
    "- Tensorflow enables easier deployment."
   ]
  },
  {
   "cell_type": "code",
   "execution_count": 2,
   "metadata": {
    "id": "tt4RnLbPGdnU"
   },
   "outputs": [],
   "source": [
    "#Import Libraries\n",
    "\n",
    "\n",
    "from __future__ import print_function\n",
    "import argparse\n",
    "import torch\n",
    "import torch.nn as nn\n",
    "import torch.nn.functional as F\n",
    "import torch.optim as optim\n",
    "from torchvision import datasets, transforms\n",
    "from torch.autograd import Variable\n",
    "\n"
   ]
  },
  {
   "cell_type": "code",
   "execution_count": 3,
   "metadata": {
    "id": "nhrOAnvjGdnV"
   },
   "outputs": [],
   "source": [
    "args={}\n",
    "kwargs={}\n",
    "args['batch_size']=1000\n",
    "args['test_batch_size']=1000\n",
    "args['epochs']=10  #The number of Epochs is the number of times you go through the full dataset.\n",
    "args['lr']=0.01 #Learning rate is how fast it will decend.\n",
    "args['momentum']=0.5 #SGD momentum (default: 0.5) Momentum is a moving average of our gradients (helps to keep direction).\n",
    "\n",
    "args['seed']=1 #random seed\n",
    "args['log_interval']=10\n",
    "args['cuda']=False\n"
   ]
  },
  {
   "cell_type": "code",
   "execution_count": 4,
   "metadata": {
    "id": "DLNfHcSrGdnW",
    "outputId": "21c438b6-ce79-48a8-b809-14115d288591"
   },
   "outputs": [],
   "source": [
    "#load the data\n",
    "train_loader = torch.utils.data.DataLoader(\n",
    "    datasets.MNIST('../data', train=True, download=True,\n",
    "                   transform=transforms.Compose([\n",
    "                       transforms.ToTensor(),\n",
    "                       transforms.Normalize((0.1307,), (0.3081,))\n",
    "                   ])),\n",
    "    batch_size=args['batch_size'], shuffle=True, **kwargs)\n",
    "test_loader = torch.utils.data.DataLoader(\n",
    "    datasets.MNIST('../data', train=False, transform=transforms.Compose([\n",
    "                       transforms.ToTensor(),\n",
    "                       transforms.Normalize((0.1307,), (0.3081,))\n",
    "                   ])),\n",
    "    batch_size=args['test_batch_size'], shuffle=True, **kwargs)\n"
   ]
  },
  {
   "cell_type": "code",
   "execution_count": null,
   "metadata": {
    "id": "APZ0gJsEGdnY"
   },
   "outputs": [],
   "source": []
  },
  {
   "cell_type": "code",
   "execution_count": 5,
   "metadata": {
    "id": "bwMzw29oGdnY"
   },
   "outputs": [],
   "source": [
    "\n",
    "\n",
    "class Net(nn.Module):\n",
    "    #This defines the structure of the NN.\n",
    "    def __init__(self):\n",
    "        super(Net, self).__init__()\n",
    "        self.conv1 = nn.Conv2d(1, 10, kernel_size=5)\n",
    "        self.conv2 = nn.Conv2d(10, 20, kernel_size=5)\n",
    "        self.conv2_drop = nn.Dropout2d()  #Dropout\n",
    "        self.fc1 = nn.Linear(320, 50)\n",
    "        self.fc2 = nn.Linear(50, 10)\n",
    "\n",
    "    def forward(self, x):\n",
    "        #Convolutional Layer/Pooling Layer/Activation\n",
    "        x = F.relu(F.max_pool2d(self.conv1(x), 2))\n",
    "        #Convolutional Layer/Dropout/Pooling Layer/Activation\n",
    "        x = F.relu(F.max_pool2d(self.conv2_drop(self.conv2(x)), 2))\n",
    "        x = x.view(-1, 320)\n",
    "        #Fully Connected Layer/Activation\n",
    "        x = F.relu(self.fc1(x))\n",
    "        x = F.dropout(x, training=self.training)\n",
    "        #Fully Connected Layer/Activation\n",
    "        x = self.fc2(x)\n",
    "        #Softmax gets probabilities.\n",
    "        return F.log_softmax(x, dim=1)\n"
   ]
  },
  {
   "cell_type": "code",
   "execution_count": 6,
   "metadata": {
    "id": "2P6p0rhrGdnZ"
   },
   "outputs": [],
   "source": [
    "\n",
    "def train(epoch):\n",
    "    model.train()\n",
    "    for batch_idx, (data, target) in enumerate(train_loader):\n",
    "        if args['cuda']:\n",
    "            data, target = data.cuda(), target.cuda()\n",
    "        #Variables in Pytorch are differenciable.\n",
    "        data, target = Variable(data), Variable(target)\n",
    "        #This will zero out the gradients for this batch.\n",
    "        optimizer.zero_grad()\n",
    "        output = model(data)\n",
    "        # Calculate the loss The negative log likelihood loss. It is useful to train a classification problem with C classes.\n",
    "        loss = F.nll_loss(output, target)\n",
    "        #dloss/dx for every Variable\n",
    "        loss.backward()\n",
    "        #to do a one-step update on our parameter.\n",
    "        optimizer.step()\n",
    "        #Print out the loss periodically.\n",
    "        if batch_idx % args['log_interval'] == 0:\n",
    "            print('Train Epoch: {} [{}/{} ({:.0f}%)]\\tLoss: {:.6f}'.format(\n",
    "                epoch, batch_idx * len(data), len(train_loader.dataset),\n",
    "                100. * batch_idx / len(train_loader), loss.item())) #loss.data[0]))\n",
    "\n",
    "def test():\n",
    "    model.eval()\n",
    "    test_loss = 0\n",
    "    correct = 0\n",
    "    for data, target in test_loader:\n",
    "        if args['cuda']:\n",
    "            data, target = data.cuda(), target.cuda()\n",
    "        \n",
    "        with torch.no_grad():\n",
    "            data = Variable(data)\n",
    "        target = Variable(target)\n",
    "        #data, target = Variable(data, volatile=True), Variable(target)\n",
    "        \n",
    "        output = model(data)\n",
    "        test_loss += F.nll_loss(output, target, size_average=False).item() #data[0] # sum up batch loss\n",
    "        pred = output.data.max(1, keepdim=True)[1] # get the index of the max log-probability\n",
    "        correct += pred.eq(target.data.view_as(pred)).long().cpu().sum()\n",
    "\n",
    "    test_loss /= len(test_loader.dataset)\n",
    "    print('\\nTest set: Average loss: {:.4f}, Accuracy: {}/{} ({:.0f}%)\\n'.format(\n",
    "        test_loss, correct, len(test_loader.dataset),\n",
    "        100. * correct / len(test_loader.dataset)))\n"
   ]
  },
  {
   "cell_type": "code",
   "execution_count": 7,
   "metadata": {
    "id": "Knl62HN3Gdna",
    "outputId": "dcae1c1f-6fcf-4421-b856-a4cb49fb3443"
   },
   "outputs": [
    {
     "name": "stdout",
     "output_type": "stream",
     "text": [
      "Train Epoch: 1 [0/60000 (0%)]\tLoss: 2.324860\n",
      "Train Epoch: 1 [10000/60000 (17%)]\tLoss: 2.307826\n",
      "Train Epoch: 1 [20000/60000 (33%)]\tLoss: 2.278838\n",
      "Train Epoch: 1 [30000/60000 (50%)]\tLoss: 2.271932\n",
      "Train Epoch: 1 [40000/60000 (67%)]\tLoss: 2.260171\n",
      "Train Epoch: 1 [50000/60000 (83%)]\tLoss: 2.247859\n"
     ]
    },
    {
     "name": "stderr",
     "output_type": "stream",
     "text": [
      "C:\\Users\\user\\anaconda3\\envs\\imgproc\\lib\\site-packages\\torch\\nn\\_reduction.py:42: UserWarning: size_average and reduce args will be deprecated, please use reduction='sum' instead.\n",
      "  warnings.warn(warning.format(ret))\n"
     ]
    },
    {
     "name": "stdout",
     "output_type": "stream",
     "text": [
      "\n",
      "Test set: Average loss: 2.1928, Accuracy: 5405/10000 (54%)\n",
      "\n",
      "Train Epoch: 2 [0/60000 (0%)]\tLoss: 2.224272\n",
      "Train Epoch: 2 [10000/60000 (17%)]\tLoss: 2.192332\n",
      "Train Epoch: 2 [20000/60000 (33%)]\tLoss: 2.144842\n",
      "Train Epoch: 2 [30000/60000 (50%)]\tLoss: 2.072646\n",
      "Train Epoch: 2 [40000/60000 (67%)]\tLoss: 2.008012\n",
      "Train Epoch: 2 [50000/60000 (83%)]\tLoss: 1.912303\n",
      "\n",
      "Test set: Average loss: 1.6278, Accuracy: 6919/10000 (69%)\n",
      "\n",
      "Train Epoch: 3 [0/60000 (0%)]\tLoss: 1.848590\n",
      "Train Epoch: 3 [10000/60000 (17%)]\tLoss: 1.667899\n",
      "Train Epoch: 3 [20000/60000 (33%)]\tLoss: 1.583217\n",
      "Train Epoch: 3 [30000/60000 (50%)]\tLoss: 1.482810\n",
      "Train Epoch: 3 [40000/60000 (67%)]\tLoss: 1.395226\n",
      "Train Epoch: 3 [50000/60000 (83%)]\tLoss: 1.306595\n",
      "\n",
      "Test set: Average loss: 0.8703, Accuracy: 8059/10000 (81%)\n",
      "\n",
      "Train Epoch: 4 [0/60000 (0%)]\tLoss: 1.259694\n",
      "Train Epoch: 4 [10000/60000 (17%)]\tLoss: 1.182906\n",
      "Train Epoch: 4 [20000/60000 (33%)]\tLoss: 1.111949\n",
      "Train Epoch: 4 [30000/60000 (50%)]\tLoss: 1.102067\n",
      "Train Epoch: 4 [40000/60000 (67%)]\tLoss: 1.023465\n",
      "Train Epoch: 4 [50000/60000 (83%)]\tLoss: 0.982931\n",
      "\n",
      "Test set: Average loss: 0.5924, Accuracy: 8472/10000 (85%)\n",
      "\n",
      "Train Epoch: 5 [0/60000 (0%)]\tLoss: 0.986425\n",
      "Train Epoch: 5 [10000/60000 (17%)]\tLoss: 0.928986\n",
      "Train Epoch: 5 [20000/60000 (33%)]\tLoss: 0.923019\n",
      "Train Epoch: 5 [30000/60000 (50%)]\tLoss: 0.908489\n",
      "Train Epoch: 5 [40000/60000 (67%)]\tLoss: 0.870029\n",
      "Train Epoch: 5 [50000/60000 (83%)]\tLoss: 0.861218\n",
      "\n",
      "Test set: Average loss: 0.4755, Accuracy: 8681/10000 (87%)\n",
      "\n",
      "Train Epoch: 6 [0/60000 (0%)]\tLoss: 0.833270\n",
      "Train Epoch: 6 [10000/60000 (17%)]\tLoss: 0.854651\n",
      "Train Epoch: 6 [20000/60000 (33%)]\tLoss: 0.775732\n",
      "Train Epoch: 6 [30000/60000 (50%)]\tLoss: 0.804935\n",
      "Train Epoch: 6 [40000/60000 (67%)]\tLoss: 0.794644\n",
      "Train Epoch: 6 [50000/60000 (83%)]\tLoss: 0.727109\n",
      "\n",
      "Test set: Average loss: 0.4099, Accuracy: 8859/10000 (89%)\n",
      "\n",
      "Train Epoch: 7 [0/60000 (0%)]\tLoss: 0.741071\n",
      "Train Epoch: 7 [10000/60000 (17%)]\tLoss: 0.791274\n",
      "Train Epoch: 7 [20000/60000 (33%)]\tLoss: 0.738927\n",
      "Train Epoch: 7 [30000/60000 (50%)]\tLoss: 0.732215\n",
      "Train Epoch: 7 [40000/60000 (67%)]\tLoss: 0.707707\n",
      "Train Epoch: 7 [50000/60000 (83%)]\tLoss: 0.665128\n",
      "\n",
      "Test set: Average loss: 0.3641, Accuracy: 8953/10000 (90%)\n",
      "\n",
      "Train Epoch: 8 [0/60000 (0%)]\tLoss: 0.671769\n",
      "Train Epoch: 8 [10000/60000 (17%)]\tLoss: 0.698073\n",
      "Train Epoch: 8 [20000/60000 (33%)]\tLoss: 0.691760\n",
      "Train Epoch: 8 [30000/60000 (50%)]\tLoss: 0.707287\n",
      "Train Epoch: 8 [40000/60000 (67%)]\tLoss: 0.672736\n",
      "Train Epoch: 8 [50000/60000 (83%)]\tLoss: 0.657488\n",
      "\n",
      "Test set: Average loss: 0.3332, Accuracy: 9031/10000 (90%)\n",
      "\n",
      "Train Epoch: 9 [0/60000 (0%)]\tLoss: 0.612036\n",
      "Train Epoch: 9 [10000/60000 (17%)]\tLoss: 0.640422\n",
      "Train Epoch: 9 [20000/60000 (33%)]\tLoss: 0.617125\n",
      "Train Epoch: 9 [30000/60000 (50%)]\tLoss: 0.670979\n",
      "Train Epoch: 9 [40000/60000 (67%)]\tLoss: 0.673647\n",
      "Train Epoch: 9 [50000/60000 (83%)]\tLoss: 0.668080\n",
      "\n",
      "Test set: Average loss: 0.3151, Accuracy: 9095/10000 (91%)\n",
      "\n",
      "Train Epoch: 10 [0/60000 (0%)]\tLoss: 0.583527\n",
      "Train Epoch: 10 [10000/60000 (17%)]\tLoss: 0.587361\n",
      "Train Epoch: 10 [20000/60000 (33%)]\tLoss: 0.590634\n",
      "Train Epoch: 10 [30000/60000 (50%)]\tLoss: 0.592037\n",
      "Train Epoch: 10 [40000/60000 (67%)]\tLoss: 0.591171\n",
      "Train Epoch: 10 [50000/60000 (83%)]\tLoss: 0.571799\n",
      "\n",
      "Test set: Average loss: 0.2881, Accuracy: 9154/10000 (92%)\n",
      "\n"
     ]
    }
   ],
   "source": [
    "model = Net()\n",
    "if args['cuda']:\n",
    "    model.cuda()\n",
    "\n",
    "optimizer = optim.SGD(model.parameters(), lr=args['lr'], momentum=args['momentum'])\n",
    "\n",
    "for epoch in range(1, args['epochs'] + 1):\n",
    "    train(epoch)\n",
    "    test()"
   ]
  },
  {
   "cell_type": "code",
   "execution_count": null,
   "metadata": {
    "id": "KX4Ab0J8Gdnb"
   },
   "outputs": [],
   "source": []
  },
  {
   "cell_type": "code",
   "execution_count": null,
   "metadata": {},
   "outputs": [],
   "source": []
  }
 ],
 "metadata": {
  "colab": {
   "provenance": []
  },
  "kernelspec": {
   "display_name": "Python 3 (ipykernel)",
   "language": "python",
   "name": "python3"
  },
  "language_info": {
   "codemirror_mode": {
    "name": "ipython",
    "version": 3
   },
   "file_extension": ".py",
   "mimetype": "text/x-python",
   "name": "python",
   "nbconvert_exporter": "python",
   "pygments_lexer": "ipython3",
   "version": "3.10.9"
  }
 },
 "nbformat": 4,
 "nbformat_minor": 1
}
